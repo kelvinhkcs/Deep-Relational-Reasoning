{
 "cells": [
  {
   "cell_type": "code",
   "execution_count": null,
   "metadata": {},
   "outputs": [],
   "source": [
    "import random as ran\n",
    "import jacinle.random as random\n",
    "import numpy as np\n",
    "import json\n",
    "import openai\n",
    "from sklearn.metrics import f1_score\n",
    "import os\n",
    "from openai import AzureOpenAI, OpenAI\n",
    "import family_tree\n",
    "\n",
    "n=10 #adjustable to 20, 40\n",
    "Data_prefix = f'Data_{n}/'\n",
    "run = 100\n",
    "file_name = 'Fam'"
   ]
  },
  {
   "cell_type": "code",
   "execution_count": null,
   "metadata": {},
   "outputs": [],
   "source": [
    "def data_generate(n):\n",
    "    while (itr < run):\n",
    "        fathers_arr, mothers_arr, daughters_arr, sons_arr, sisters_arr, grandsons_arr, aunts_arr, paternal_great_aunts_arr = generate_family(n, p_marriage=1)\n",
    "\n",
    "        if (paternal_great_aunts_arr.sum() > 0):\n",
    "            np.save(Data_prefix+file_name+'_fathers_arr_'+str(itr)+'.npy', fathers_arr)\n",
    "            np.save(Data_prefix+file_name+'_mothers_arr_'+str(itr)+'.npy', mothers_arr)\n",
    "            np.save(Data_prefix+file_name+'_daughters_arr_'+str(itr)+'.npy', daughters_arr)\n",
    "            np.save(Data_prefix+file_name+'_sons_arr_'+str(itr)+'.npy', sons_arr)\n",
    "            np.save(Data_prefix+file_name+'_sisters_arr_'+str(itr)+'.npy', sisters_arr)\n",
    "            np.save(Data_prefix+file_name+'_grandsons_arr_'+str(itr)+'.npy', grandsons_arr)\n",
    "            np.save(Data_prefix+file_name+'_aunts_arr_'+str(itr)+'.npy', aunts_arr)\n",
    "            np.save(Data_prefix+file_name+'_paternal_great_aunts_arr_'+str(itr)+'.npy', paternal_great_aunts_arr)\n",
    "\n",
    "            itr += 1"
   ]
  },
  {
   "cell_type": "code",
   "execution_count": null,
   "metadata": {},
   "outputs": [],
   "source": [
    "# Example: Running this can generate family tree data with n=10\n",
    "data_generate(10)"
   ]
  },
  {
   "cell_type": "code",
   "execution_count": null,
   "metadata": {},
   "outputs": [],
   "source": []
  },
  {
   "cell_type": "code",
   "execution_count": null,
   "metadata": {},
   "outputs": [],
   "source": []
  }
 ],
 "metadata": {
  "kernelspec": {
   "display_name": "textgrad_01",
   "language": "python",
   "name": "textgrad_01"
  },
  "language_info": {
   "codemirror_mode": {
    "name": "ipython",
    "version": 3
   },
   "file_extension": ".py",
   "mimetype": "text/x-python",
   "name": "python",
   "nbconvert_exporter": "python",
   "pygments_lexer": "ipython3",
   "version": "3.13.2"
  }
 },
 "nbformat": 4,
 "nbformat_minor": 4
}
