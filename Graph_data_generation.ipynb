{
 "cells": [
  {
   "cell_type": "code",
   "execution_count": null,
   "metadata": {},
   "outputs": [],
   "source": [
    "import random as ran\n",
    "import copy\n",
    "import numpy as np\n",
    "import jacinle.random as random\n",
    "import json\n",
    "import openai\n",
    "from sklearn.metrics import f1_score\n",
    "import os\n",
    "from openai import AzureOpenAI, OpenAI\n",
    "import graph\n",
    "\n",
    "Data_prefix = 'Data_40/Graph/'\n",
    "n = 40\n",
    "run = 100\n",
    "file_name = 'Graph'"
   ]
  },
  {
   "cell_type": "code",
   "execution_count": null,
   "metadata": {},
   "outputs": [],
   "source": [
    "# Example: Generate graph reasoning dataset with pre-defined n and run\n",
    "for itr in range(0,run):\n",
    "    edge_arr, shortest_arr, connect_arr = graph.generate_graph(n)\n",
    "\n",
    "    np.save(Data_prefix+file_name+'_edge_graph_'+str(itr)+'.npy', edge_arr)\n",
    "    np.save(Data_prefix+file_name+'_shortest_graph_'+str(itr)+'.npy', shortest_arr)\n",
    "    np.save(Data_prefix+file_name+'_connect_graph_'+str(itr)+'.npy', connect_arr)"
   ]
  }
 ],
 "metadata": {
  "kernelspec": {
   "display_name": "textgrad_01",
   "language": "python",
   "name": "textgrad_01"
  },
  "language_info": {
   "codemirror_mode": {
    "name": "ipython",
    "version": 3
   },
   "file_extension": ".py",
   "mimetype": "text/x-python",
   "name": "python",
   "nbconvert_exporter": "python",
   "pygments_lexer": "ipython3",
   "version": "3.13.2"
  }
 },
 "nbformat": 4,
 "nbformat_minor": 4
}
